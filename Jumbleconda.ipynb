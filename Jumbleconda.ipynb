{
 "cells": [
  {
   "cell_type": "code",
   "execution_count": 1,
   "metadata": {},
   "outputs": [
    {
     "name": "stdout",
     "output_type": "stream",
     "text": [
      "RULES OF THE GAME:\n",
      "1. 5 Round will be played and if you get 3 or more points , You won otherwise  Computer Wins.\n",
      "2.  Use Capital Letters.\n",
      "3.  In each round,  You will be given one Jumbled word and you have to answer the original unjumbled word.\n",
      "4.  If you answer is correct you get  1 point.\n",
      "\n"
     ]
    },
    {
     "name": "stdin",
     "output_type": "stream",
     "text": [
      "Do you want to play? (yes or no)\n",
      " yes\n"
     ]
    },
    {
     "name": "stdout",
     "output_type": "stream",
     "text": [
      "\n",
      "The jumble is: OFOD\n"
     ]
    },
    {
     "name": "stdin",
     "output_type": "stream",
     "text": [
      "Enter your guess: FOOD\n"
     ]
    },
    {
     "name": "stdout",
     "output_type": "stream",
     "text": [
      "That's it!  You guessed it!\n",
      "\n",
      "\n",
      "The jumble is: OCTIX\n"
     ]
    },
    {
     "name": "stdin",
     "output_type": "stream",
     "text": [
      "Enter your guess: TOXIC\n"
     ]
    },
    {
     "name": "stdout",
     "output_type": "stream",
     "text": [
      "That's it!  You guessed it!\n",
      "\n",
      "\n",
      "The jumble is: ACROTR\n"
     ]
    },
    {
     "name": "stdin",
     "output_type": "stream",
     "text": [
      "Enter your guess: Trac\n"
     ]
    },
    {
     "name": "stdout",
     "output_type": "stream",
     "text": [
      "You failed...\n",
      "\n",
      "The jumble is: KDIYNE\n"
     ]
    },
    {
     "name": "stdin",
     "output_type": "stream",
     "text": [
      "Enter your guess: KIDNEY\n"
     ]
    },
    {
     "name": "stdout",
     "output_type": "stream",
     "text": [
      "That's it!  You guessed it!\n",
      "\n",
      "\n",
      "The jumble is: CRAROT\n"
     ]
    },
    {
     "name": "stdin",
     "output_type": "stream",
     "text": [
      "Enter your guess: CARROT\n"
     ]
    },
    {
     "name": "stdout",
     "output_type": "stream",
     "text": [
      "That's it!  You guessed it!\n",
      "\n",
      "Your score is: 4\n",
      "Computer score is: 1\n",
      "You Won\n"
     ]
    },
    {
     "data": {
      "image/png": "[encoded data removed]",
      "text/plain": [
       "<Figure size 432x288 with 1 Axes>"
      ]
     },
     "metadata": {
      "needs_background": "light"
     },
     "output_type": "display_data"
    },
    {
     "name": "stdin",
     "output_type": "stream",
     "text": [
      "Do you want to play again? (yes or no) no\n"
     ]
    },
    {
     "name": "stdout",
     "output_type": "stream",
     "text": [
      "Thanks for playing.\n"
     ]
    },
    {
     "name": "stdin",
     "output_type": "stream",
     "text": [
      "\n",
      "Press the enter key to exit. \n"
     ]
    },
    {
     "data": {
      "text/plain": [
       "''"
      ]
     },
     "execution_count": 1,
     "metadata": {},
     "output_type": "execute_result"
    }
   ],
   "source": [
    "import random\n",
    "import numpy as np\n",
    "import matplotlib.pyplot as plt\n",
    "from PIL import Image\n",
    "\n",
    "ImageAddress = 'C:/Users/hritv/PycharmProjects/JumbleWord/Youwon.png'\n",
    "ImageItself = Image.open(ImageAddress)\n",
    "ImageNumpyFormat = np.asarray(ImageItself)\n",
    "\n",
    "def get_jumble_word(word):\n",
    "    l = list(word)\n",
    "    random.shuffle(l)\n",
    "    return ''.join(l)\n",
    "\n",
    "with open(\"Jumbletxt.txt\", \"r\") as file:\n",
    "    allText = file.read()\n",
    "    words = list(map(str, allText.split()))\n",
    "\n",
    "\n",
    "def game():\n",
    "    x = 0\n",
    "    y = 0\n",
    "    for i in range(5):\n",
    "        a=(random.choice(words))\n",
    "        print(\"\\nThe jumble is:\", get_jumble_word(a))\n",
    "        guess=input(\"Enter your guess:\")\n",
    "        if guess == a:\n",
    "            x=x+1\n",
    "            print(\"That's it!  You guessed it!\\n\")\n",
    "        else:\n",
    "            y=y+1\n",
    "            print(\"You failed...\")\n",
    "    print(\"Your score is: \" + str(x))\n",
    "    print(\"Computer score is: \" + str(y))\n",
    "    if(x>y):\n",
    "        print(\"You Won\")\n",
    "        plt.imshow(ImageNumpyFormat)\n",
    "        plt.draw()\n",
    "        plt.pause(1)  # pause how many seconds\n",
    "        plt.close()\n",
    "    else:\n",
    "        print(\"You Lose\")\n",
    "    play = input(\"Do you want to play again? (yes or no)\")\n",
    "    if (play == \"yes\"):\n",
    "        game()\n",
    "\n",
    "print(\"\"\"RULES OF THE GAME:\n",
    "1. 5 Round will be played and if you get 3 or more points , You won otherwise  Computer Wins.\n",
    "2.  Use Capital Letters.\n",
    "3.  In each round,  You will be given one Jumbled word and you have to answer the original unjumbled word.\n",
    "4.  If you answer is correct you get  1 point.\n",
    "\"\"\")\n",
    "play = input(\"Do you want to play? (yes or no)\\n\")\n",
    "if (play == \"yes\"):\n",
    "    game()\n",
    "\n",
    "print(\"Thanks for playing.\")\n",
    "\n",
    "input(\"\\nPress the enter key to exit.\")\n"
   ]
  },
  {
   "cell_type": "code",
   "execution_count": null,
   "metadata": {},
   "outputs": [],
   "source": []
  }
 ],
 "metadata": {
  "kernelspec": {
   "display_name": "Python 3",
   "language": "python",
   "name": "python3"
  },
  "language_info": {
   "codemirror_mode": {
    "name": "ipython",
    "version": 3
   },
   "file_extension": ".py",
   "mimetype": "text/x-python",
   "name": "python",
   "nbconvert_exporter": "python",
   "pygments_lexer": "ipython3",
   "version": "3.8.3"
  }
 },
 "nbformat": 4,
 "nbformat_minor": 4
}
